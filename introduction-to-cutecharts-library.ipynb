{
 "cells": [
  {
   "cell_type": "markdown",
   "id": "9e2a23d2",
   "metadata": {
    "papermill": {
     "duration": 0.014537,
     "end_time": "2021-10-21T07:33:53.461188",
     "exception": false,
     "start_time": "2021-10-21T07:33:53.446651",
     "status": "completed"
    },
    "tags": []
   },
   "source": [
    "![cutecharts](https://i.imgur.com/dzu7c3N.png)"
   ]
  },
  {
   "cell_type": "markdown",
   "id": "43d7517d",
   "metadata": {
    "papermill": {
     "duration": 0.012805,
     "end_time": "2021-10-21T07:33:53.487842",
     "exception": false,
     "start_time": "2021-10-21T07:33:53.475037",
     "status": "completed"
    },
    "tags": []
   },
   "source": [
    "<p style=\"font-size:120%\">\n",
    "    This notebook is a simple introduction to <strong>cutecharts</strong> library. It is a cool python hand-painted styles visualization package, which is totally different from the regular Matplotlib and Seaborn library. Hovering effect is an advantage of cutecharts library. For now, this python library support five different charts - Bar, Pie, Line Radar & Scatter, Here, I will be plotting pie, donut, line and bar chart with <strong>Netflix</strong> data.\n",
    "</p>"
   ]
  },
  {
   "cell_type": "markdown",
   "id": "068c3f9d",
   "metadata": {
    "papermill": {
     "duration": 0.012873,
     "end_time": "2021-10-21T07:33:53.513914",
     "exception": false,
     "start_time": "2021-10-21T07:33:53.501041",
     "status": "completed"
    },
    "tags": []
   },
   "source": [
    "## **Install cutecharts**"
   ]
  },
  {
   "cell_type": "code",
   "execution_count": 1,
   "id": "3ae54630",
   "metadata": {
    "_kg_hide-input": false,
    "_kg_hide-output": true,
    "execution": {
     "iopub.execute_input": "2021-10-21T07:33:53.553676Z",
     "iopub.status.busy": "2021-10-21T07:33:53.544484Z",
     "iopub.status.idle": "2021-10-21T07:34:03.251291Z",
     "shell.execute_reply": "2021-10-21T07:34:03.250500Z",
     "shell.execute_reply.started": "2021-10-21T07:32:12.311329Z"
    },
    "papermill": {
     "duration": 9.724459,
     "end_time": "2021-10-21T07:34:03.251472",
     "exception": false,
     "start_time": "2021-10-21T07:33:53.527013",
     "status": "completed"
    },
    "tags": []
   },
   "outputs": [
    {
     "name": "stdout",
     "output_type": "stream",
     "text": [
      "Collecting cutecharts\r\n",
      "  Downloading cutecharts-1.2.0-py3-none-any.whl (17 kB)\r\n",
      "Requirement already satisfied: jinja2 in /opt/conda/lib/python3.7/site-packages (from cutecharts) (3.0.1)\r\n",
      "Requirement already satisfied: MarkupSafe>=2.0 in /opt/conda/lib/python3.7/site-packages (from jinja2->cutecharts) (2.0.1)\r\n",
      "Installing collected packages: cutecharts\r\n",
      "Successfully installed cutecharts-1.2.0\r\n",
      "\u001b[33mWARNING: Running pip as the 'root' user can result in broken permissions and conflicting behaviour with the system package manager. It is recommended to use a virtual environment instead: https://pip.pypa.io/warnings/venv\u001b[0m\r\n"
     ]
    }
   ],
   "source": [
    "!pip3 install cutecharts"
   ]
  },
  {
   "cell_type": "markdown",
   "id": "1558730d",
   "metadata": {
    "papermill": {
     "duration": 0.015354,
     "end_time": "2021-10-21T07:34:03.282884",
     "exception": false,
     "start_time": "2021-10-21T07:34:03.267530",
     "status": "completed"
    },
    "tags": []
   },
   "source": [
    "## **Loading data**"
   ]
  },
  {
   "cell_type": "code",
   "execution_count": 2,
   "id": "76612c54",
   "metadata": {
    "execution": {
     "iopub.execute_input": "2021-10-21T07:34:03.318507Z",
     "iopub.status.busy": "2021-10-21T07:34:03.317836Z",
     "iopub.status.idle": "2021-10-21T07:34:03.326689Z",
     "shell.execute_reply": "2021-10-21T07:34:03.327308Z",
     "shell.execute_reply.started": "2021-10-21T07:32:21.920342Z"
    },
    "papermill": {
     "duration": 0.029585,
     "end_time": "2021-10-21T07:34:03.327493",
     "exception": false,
     "start_time": "2021-10-21T07:34:03.297908",
     "status": "completed"
    },
    "tags": []
   },
   "outputs": [],
   "source": [
    "# import libraries\n",
    "import pandas as pd\n",
    "import cutecharts.charts as ctc"
   ]
  },
  {
   "cell_type": "code",
   "execution_count": 3,
   "id": "13d1e51e",
   "metadata": {
    "execution": {
     "iopub.execute_input": "2021-10-21T07:34:03.363674Z",
     "iopub.status.busy": "2021-10-21T07:34:03.362986Z",
     "iopub.status.idle": "2021-10-21T07:34:03.526098Z",
     "shell.execute_reply": "2021-10-21T07:34:03.526623Z",
     "shell.execute_reply.started": "2021-10-21T07:32:21.931953Z"
    },
    "papermill": {
     "duration": 0.184006,
     "end_time": "2021-10-21T07:34:03.526838",
     "exception": false,
     "start_time": "2021-10-21T07:34:03.342832",
     "status": "completed"
    },
    "tags": []
   },
   "outputs": [
    {
     "data": {
      "text/html": [
       "<div>\n",
       "<style scoped>\n",
       "    .dataframe tbody tr th:only-of-type {\n",
       "        vertical-align: middle;\n",
       "    }\n",
       "\n",
       "    .dataframe tbody tr th {\n",
       "        vertical-align: top;\n",
       "    }\n",
       "\n",
       "    .dataframe thead th {\n",
       "        text-align: right;\n",
       "    }\n",
       "</style>\n",
       "<table border=\"1\" class=\"dataframe\">\n",
       "  <thead>\n",
       "    <tr style=\"text-align: right;\">\n",
       "      <th></th>\n",
       "      <th>show_id</th>\n",
       "      <th>type</th>\n",
       "      <th>title</th>\n",
       "      <th>director</th>\n",
       "      <th>cast</th>\n",
       "      <th>country</th>\n",
       "      <th>date_added</th>\n",
       "      <th>release_year</th>\n",
       "      <th>rating</th>\n",
       "      <th>duration</th>\n",
       "      <th>listed_in</th>\n",
       "      <th>description</th>\n",
       "    </tr>\n",
       "  </thead>\n",
       "  <tbody>\n",
       "    <tr>\n",
       "      <th>0</th>\n",
       "      <td>s1</td>\n",
       "      <td>Movie</td>\n",
       "      <td>Dick Johnson Is Dead</td>\n",
       "      <td>Kirsten Johnson</td>\n",
       "      <td>NaN</td>\n",
       "      <td>United States</td>\n",
       "      <td>September 25, 2021</td>\n",
       "      <td>2020</td>\n",
       "      <td>PG-13</td>\n",
       "      <td>90 min</td>\n",
       "      <td>Documentaries</td>\n",
       "      <td>As her father nears the end of his life, filmm...</td>\n",
       "    </tr>\n",
       "    <tr>\n",
       "      <th>1</th>\n",
       "      <td>s2</td>\n",
       "      <td>TV Show</td>\n",
       "      <td>Blood &amp; Water</td>\n",
       "      <td>NaN</td>\n",
       "      <td>Ama Qamata, Khosi Ngema, Gail Mabalane, Thaban...</td>\n",
       "      <td>South Africa</td>\n",
       "      <td>September 24, 2021</td>\n",
       "      <td>2021</td>\n",
       "      <td>TV-MA</td>\n",
       "      <td>2 Seasons</td>\n",
       "      <td>International TV Shows, TV Dramas, TV Mysteries</td>\n",
       "      <td>After crossing paths at a party, a Cape Town t...</td>\n",
       "    </tr>\n",
       "    <tr>\n",
       "      <th>2</th>\n",
       "      <td>s3</td>\n",
       "      <td>TV Show</td>\n",
       "      <td>Ganglands</td>\n",
       "      <td>Julien Leclercq</td>\n",
       "      <td>Sami Bouajila, Tracy Gotoas, Samuel Jouy, Nabi...</td>\n",
       "      <td>NaN</td>\n",
       "      <td>September 24, 2021</td>\n",
       "      <td>2021</td>\n",
       "      <td>TV-MA</td>\n",
       "      <td>1 Season</td>\n",
       "      <td>Crime TV Shows, International TV Shows, TV Act...</td>\n",
       "      <td>To protect his family from a powerful drug lor...</td>\n",
       "    </tr>\n",
       "    <tr>\n",
       "      <th>3</th>\n",
       "      <td>s4</td>\n",
       "      <td>TV Show</td>\n",
       "      <td>Jailbirds New Orleans</td>\n",
       "      <td>NaN</td>\n",
       "      <td>NaN</td>\n",
       "      <td>NaN</td>\n",
       "      <td>September 24, 2021</td>\n",
       "      <td>2021</td>\n",
       "      <td>TV-MA</td>\n",
       "      <td>1 Season</td>\n",
       "      <td>Docuseries, Reality TV</td>\n",
       "      <td>Feuds, flirtations and toilet talk go down amo...</td>\n",
       "    </tr>\n",
       "    <tr>\n",
       "      <th>4</th>\n",
       "      <td>s5</td>\n",
       "      <td>TV Show</td>\n",
       "      <td>Kota Factory</td>\n",
       "      <td>NaN</td>\n",
       "      <td>Mayur More, Jitendra Kumar, Ranjan Raj, Alam K...</td>\n",
       "      <td>India</td>\n",
       "      <td>September 24, 2021</td>\n",
       "      <td>2021</td>\n",
       "      <td>TV-MA</td>\n",
       "      <td>2 Seasons</td>\n",
       "      <td>International TV Shows, Romantic TV Shows, TV ...</td>\n",
       "      <td>In a city of coaching centers known to train I...</td>\n",
       "    </tr>\n",
       "  </tbody>\n",
       "</table>\n",
       "</div>"
      ],
      "text/plain": [
       "  show_id     type                  title         director  \\\n",
       "0      s1    Movie   Dick Johnson Is Dead  Kirsten Johnson   \n",
       "1      s2  TV Show          Blood & Water              NaN   \n",
       "2      s3  TV Show              Ganglands  Julien Leclercq   \n",
       "3      s4  TV Show  Jailbirds New Orleans              NaN   \n",
       "4      s5  TV Show           Kota Factory              NaN   \n",
       "\n",
       "                                                cast        country  \\\n",
       "0                                                NaN  United States   \n",
       "1  Ama Qamata, Khosi Ngema, Gail Mabalane, Thaban...   South Africa   \n",
       "2  Sami Bouajila, Tracy Gotoas, Samuel Jouy, Nabi...            NaN   \n",
       "3                                                NaN            NaN   \n",
       "4  Mayur More, Jitendra Kumar, Ranjan Raj, Alam K...          India   \n",
       "\n",
       "           date_added  release_year rating   duration  \\\n",
       "0  September 25, 2021          2020  PG-13     90 min   \n",
       "1  September 24, 2021          2021  TV-MA  2 Seasons   \n",
       "2  September 24, 2021          2021  TV-MA   1 Season   \n",
       "3  September 24, 2021          2021  TV-MA   1 Season   \n",
       "4  September 24, 2021          2021  TV-MA  2 Seasons   \n",
       "\n",
       "                                           listed_in  \\\n",
       "0                                      Documentaries   \n",
       "1    International TV Shows, TV Dramas, TV Mysteries   \n",
       "2  Crime TV Shows, International TV Shows, TV Act...   \n",
       "3                             Docuseries, Reality TV   \n",
       "4  International TV Shows, Romantic TV Shows, TV ...   \n",
       "\n",
       "                                         description  \n",
       "0  As her father nears the end of his life, filmm...  \n",
       "1  After crossing paths at a party, a Cape Town t...  \n",
       "2  To protect his family from a powerful drug lor...  \n",
       "3  Feuds, flirtations and toilet talk go down amo...  \n",
       "4  In a city of coaching centers known to train I...  "
      ]
     },
     "execution_count": 3,
     "metadata": {},
     "output_type": "execute_result"
    }
   ],
   "source": [
    "df = pd.read_csv('../input/netflix-shows/netflix_titles.csv')\n",
    "# print first 5 datasets\n",
    "df.head()"
   ]
  },
  {
   "cell_type": "markdown",
   "id": "a3c5e91f",
   "metadata": {
    "papermill": {
     "duration": 0.01547,
     "end_time": "2021-10-21T07:34:03.557978",
     "exception": false,
     "start_time": "2021-10-21T07:34:03.542508",
     "status": "completed"
    },
    "tags": []
   },
   "source": [
    "## **Pie Chart**"
   ]
  },
  {
   "cell_type": "code",
   "execution_count": 4,
   "id": "88628a59",
   "metadata": {
    "execution": {
     "iopub.execute_input": "2021-10-21T07:34:03.593245Z",
     "iopub.status.busy": "2021-10-21T07:34:03.592277Z",
     "iopub.status.idle": "2021-10-21T07:34:03.621588Z",
     "shell.execute_reply": "2021-10-21T07:34:03.622071Z",
     "shell.execute_reply.started": "2021-10-21T07:32:22.096681Z"
    },
    "papermill": {
     "duration": 0.048602,
     "end_time": "2021-10-21T07:34:03.622250",
     "exception": false,
     "start_time": "2021-10-21T07:34:03.573648",
     "status": "completed"
    },
    "tags": []
   },
   "outputs": [
    {
     "data": {
      "text/html": [
       "\n",
       "<script>\n",
       "    require.config({\n",
       "        paths: {\n",
       "            'chartXkcd':'https://cdn.jsdelivr.net/npm/chart.xkcd@1.1/dist/chart.xkcd.min'\n",
       "        }\n",
       "    });\n",
       "</script>\n",
       "\n",
       "<div id=\"dbf0769aba284e258c5ba7c749e9580c\" class=\"chart-container\" style=\"width: 720px\">\n",
       "        <svg id=\"chart_dbf0769aba284e258c5ba7c749e9580c\"></svg>\n",
       "    </div>\n",
       "    <script>\n",
       "        require(['chartXkcd'], function(chartXkcd) {\n",
       "            const svg_dbf0769aba284e258c5ba7c749e9580c = document.querySelector('#chart_dbf0769aba284e258c5ba7c749e9580c')\n",
       "            const chart_dbf0769aba284e258c5ba7c749e9580c = new chartXkcd.Pie(svg_dbf0769aba284e258c5ba7c749e9580c, {\"title\": \"Content type on Netflix\", \"data\": {\"datasets\": [{\"data\": [6131, 2676]}], \"labels\": [\"Movie\", \"TV Show\"]}, \"options\": {\"innerRadius\": 0, \"legendPosition\": 1, \"dataColors\": [\"#ee333c\", \"#168ab5\"]}});\n",
       "        })\n",
       "    </script>\n"
      ],
      "text/plain": [
       "<cutecharts.render.engine.HTML at 0x7f8208552ed0>"
      ]
     },
     "execution_count": 4,
     "metadata": {},
     "output_type": "execute_result"
    }
   ],
   "source": [
    "# Content Type on Netflix\n",
    "content_type = df['type'].value_counts().to_frame(name=\"count\")\n",
    "\n",
    "# donut chart \n",
    "pie = ctc.Pie('Content type on Netflix', # title\n",
    "              width='720px',height='720px')\n",
    "\n",
    "# set the chart options\n",
    "pie.set_options(labels=list(content_type.index), # country names as labels\n",
    "                inner_radius=0,                  # inner radius set to 0\n",
    "                colors=['#ee333c','#168ab5'])\n",
    "\n",
    "\n",
    "pie.add_series(list(content_type['count'])) \n",
    "\n",
    "# display the charts\n",
    "pie.render_notebook()"
   ]
  },
  {
   "cell_type": "markdown",
   "id": "73f5ddc9",
   "metadata": {},
   "source": [
    "![img](https://i.imgur.com/NoCvF7V.png)"
   ]
  },
  {
   "cell_type": "markdown",
   "id": "6bba7994",
   "metadata": {
    "papermill": {
     "duration": 0.016689,
     "end_time": "2021-10-21T07:34:03.654827",
     "exception": false,
     "start_time": "2021-10-21T07:34:03.638138",
     "status": "completed"
    },
    "tags": []
   },
   "source": [
    "## **Donut Chart**"
   ]
  },
  {
   "cell_type": "markdown",
   "id": "f22a336f",
   "metadata": {
    "papermill": {
     "duration": 0.015451,
     "end_time": "2021-10-21T07:34:03.685978",
     "exception": false,
     "start_time": "2021-10-21T07:34:03.670527",
     "status": "completed"
    },
    "tags": []
   },
   "source": [
    "<p style=\"font-size:120%\">\n",
    "All the features are the same which we used in the pie chart just one more additional parameter is used by inner_radius; we can give any value between <strong>0 to 1</strong> for the inner radius of the donut chart.\n",
    "    <p>"
   ]
  },
  {
   "cell_type": "code",
   "execution_count": 5,
   "id": "a9cc0a07",
   "metadata": {
    "execution": {
     "iopub.execute_input": "2021-10-21T07:34:03.721174Z",
     "iopub.status.busy": "2021-10-21T07:34:03.720456Z",
     "iopub.status.idle": "2021-10-21T07:34:03.730895Z",
     "shell.execute_reply": "2021-10-21T07:34:03.731447Z",
     "shell.execute_reply.started": "2021-10-21T07:32:22.128618Z"
    },
    "papermill": {
     "duration": 0.029922,
     "end_time": "2021-10-21T07:34:03.731634",
     "exception": false,
     "start_time": "2021-10-21T07:34:03.701712",
     "status": "completed"
    },
    "tags": []
   },
   "outputs": [
    {
     "data": {
      "text/html": [
       "<div>\n",
       "<style scoped>\n",
       "    .dataframe tbody tr th:only-of-type {\n",
       "        vertical-align: middle;\n",
       "    }\n",
       "\n",
       "    .dataframe tbody tr th {\n",
       "        vertical-align: top;\n",
       "    }\n",
       "\n",
       "    .dataframe thead th {\n",
       "        text-align: right;\n",
       "    }\n",
       "</style>\n",
       "<table border=\"1\" class=\"dataframe\">\n",
       "  <thead>\n",
       "    <tr style=\"text-align: right;\">\n",
       "      <th></th>\n",
       "      <th>count</th>\n",
       "    </tr>\n",
       "  </thead>\n",
       "  <tbody>\n",
       "    <tr>\n",
       "      <th>United States</th>\n",
       "      <td>2818</td>\n",
       "    </tr>\n",
       "    <tr>\n",
       "      <th>India</th>\n",
       "      <td>972</td>\n",
       "    </tr>\n",
       "    <tr>\n",
       "      <th>United Kingdom</th>\n",
       "      <td>419</td>\n",
       "    </tr>\n",
       "    <tr>\n",
       "      <th>Japan</th>\n",
       "      <td>245</td>\n",
       "    </tr>\n",
       "    <tr>\n",
       "      <th>South Korea</th>\n",
       "      <td>199</td>\n",
       "    </tr>\n",
       "  </tbody>\n",
       "</table>\n",
       "</div>"
      ],
      "text/plain": [
       "                count\n",
       "United States    2818\n",
       "India             972\n",
       "United Kingdom    419\n",
       "Japan             245\n",
       "South Korea       199"
      ]
     },
     "execution_count": 5,
     "metadata": {},
     "output_type": "execute_result"
    }
   ],
   "source": [
    "# top 5 countries with most content\n",
    "country = df['country'].value_counts()[:5].to_frame(name=\"count\")\n",
    "country"
   ]
  },
  {
   "cell_type": "code",
   "execution_count": 6,
   "id": "0edbefe9",
   "metadata": {
    "execution": {
     "iopub.execute_input": "2021-10-21T07:34:03.767404Z",
     "iopub.status.busy": "2021-10-21T07:34:03.766735Z",
     "iopub.status.idle": "2021-10-21T07:34:03.773579Z",
     "shell.execute_reply": "2021-10-21T07:34:03.774141Z",
     "shell.execute_reply.started": "2021-10-21T07:32:22.142051Z"
    },
    "papermill": {
     "duration": 0.026288,
     "end_time": "2021-10-21T07:34:03.774307",
     "exception": false,
     "start_time": "2021-10-21T07:34:03.748019",
     "status": "completed"
    },
    "tags": []
   },
   "outputs": [
    {
     "data": {
      "text/html": [
       "\n",
       "<script>\n",
       "    require.config({\n",
       "        paths: {\n",
       "            'chartXkcd':'https://cdn.jsdelivr.net/npm/chart.xkcd@1.1/dist/chart.xkcd.min'\n",
       "        }\n",
       "    });\n",
       "</script>\n",
       "\n",
       "<div id=\"4e91dbea88bf464f86d1ecbb96db5dcb\" class=\"chart-container\" style=\"width: 720px\">\n",
       "        <svg id=\"chart_4e91dbea88bf464f86d1ecbb96db5dcb\"></svg>\n",
       "    </div>\n",
       "    <script>\n",
       "        require(['chartXkcd'], function(chartXkcd) {\n",
       "            const svg_4e91dbea88bf464f86d1ecbb96db5dcb = document.querySelector('#chart_4e91dbea88bf464f86d1ecbb96db5dcb')\n",
       "            const chart_4e91dbea88bf464f86d1ecbb96db5dcb = new chartXkcd.Pie(svg_4e91dbea88bf464f86d1ecbb96db5dcb, {\"title\": \"Countries with Most Content\", \"data\": {\"datasets\": [{\"data\": [2818, 972, 419, 245, 199]}], \"labels\": [\"United States\", \"India\", \"United Kingdom\", \"Japan\", \"South Korea\"]}, \"options\": {\"innerRadius\": 0.5, \"legendPosition\": 1}});\n",
       "        })\n",
       "    </script>\n"
      ],
      "text/plain": [
       "<cutecharts.render.engine.HTML at 0x7f8205c30350>"
      ]
     },
     "execution_count": 6,
     "metadata": {},
     "output_type": "execute_result"
    }
   ],
   "source": [
    "pie = ctc.Pie('Countries with Most Content',\n",
    "              width='720px',height='720px')\n",
    "\n",
    "# set the chart options\n",
    "pie.set_options(labels=list(country.index), # country names as labels\n",
    "                inner_radius=0.5    # inner radius set between 0 & 1\n",
    "                )\n",
    "pie.add_series(list(country['count'])) \n",
    "\n",
    "# display the chart\n",
    "pie.render_notebook()"
   ]
  },
  {
   "cell_type": "markdown",
   "id": "369cde4b",
   "metadata": {},
   "source": [
    "![img](https://i.imgur.com/HMzuSOd.png)"
   ]
  },
  {
   "cell_type": "markdown",
   "id": "136ba586",
   "metadata": {
    "papermill": {
     "duration": 0.016469,
     "end_time": "2021-10-21T07:34:03.807414",
     "exception": false,
     "start_time": "2021-10-21T07:34:03.790945",
     "status": "completed"
    },
    "tags": []
   },
   "source": [
    "## **Line Chart**"
   ]
  },
  {
   "cell_type": "code",
   "execution_count": 7,
   "id": "406b7795",
   "metadata": {
    "execution": {
     "iopub.execute_input": "2021-10-21T07:34:03.845540Z",
     "iopub.status.busy": "2021-10-21T07:34:03.844796Z",
     "iopub.status.idle": "2021-10-21T07:34:03.874024Z",
     "shell.execute_reply": "2021-10-21T07:34:03.874576Z",
     "shell.execute_reply.started": "2021-10-21T07:32:22.156618Z"
    },
    "papermill": {
     "duration": 0.049355,
     "end_time": "2021-10-21T07:34:03.874747",
     "exception": false,
     "start_time": "2021-10-21T07:34:03.825392",
     "status": "completed"
    },
    "tags": []
   },
   "outputs": [
    {
     "data": {
      "text/html": [
       "\n",
       "<script>\n",
       "    require.config({\n",
       "        paths: {\n",
       "            'chartXkcd':'https://cdn.jsdelivr.net/npm/chart.xkcd@1.1/dist/chart.xkcd.min'\n",
       "        }\n",
       "    });\n",
       "</script>\n",
       "\n",
       "<div id=\"1db97bab1c5e4f44be16796eacbc9407\" class=\"chart-container\" style=\"width: 720px\">\n",
       "        <svg id=\"chart_1db97bab1c5e4f44be16796eacbc9407\"></svg>\n",
       "    </div>\n",
       "    <script>\n",
       "        require(['chartXkcd'], function(chartXkcd) {\n",
       "            const svg_1db97bab1c5e4f44be16796eacbc9407 = document.querySelector('#chart_1db97bab1c5e4f44be16796eacbc9407')\n",
       "            const chart_1db97bab1c5e4f44be16796eacbc9407 = new chartXkcd.Line(svg_1db97bab1c5e4f44be16796eacbc9407, {\"title\": \"Growth in Content over the Years\", \"data\": {\"datasets\": [{\"label\": \"No: of releases\", \"data\": [37, 45, 51, 61, 64, 80, 96, 88, 136, 152, 194, 185, 237, 288, 352, 560, 902, 1032, 1147, 1030, 953]}], \"labels\": [2000, 2001, 2002, 2003, 2004, 2005, 2006, 2007, 2008, 2009, 2010, 2011, 2012, 2013, 2014, 2015, 2016, 2017, 2018, 2019, 2020]}, \"xLabel\": \"Years\", \"yLabel\": \"Count\", \"options\": {\"yTickCount\": 3, \"legendPosition\": 1, \"dataColors\": [\"#ee333c\"]}});\n",
       "        })\n",
       "    </script>\n"
      ],
      "text/plain": [
       "<cutecharts.render.engine.HTML at 0x7f8205bdcd90>"
      ]
     },
     "execution_count": 7,
     "metadata": {},
     "output_type": "execute_result"
    }
   ],
   "source": [
    "# Growth in content over the years (2000-2020)\n",
    "content = df.groupby('release_year').count()['show_id'][-22:-1].to_frame(name=\"count\")\n",
    "\n",
    "line = ctc.Line('Growth in Content over the Years',\n",
    "                width='720px',height='720px')\n",
    "\n",
    "# set the chart options\n",
    "line.set_options(labels=list(content.index),\n",
    "                 x_label='Years',\n",
    "                 y_label='Count',\n",
    "                 colors=['#ee333c'])\n",
    "\n",
    "line.add_series('No: of releases', list(content['count']))\n",
    "\n",
    "# display the chart\n",
    "line.render_notebook()"
   ]
  },
  {
   "cell_type": "markdown",
   "id": "59c8be29",
   "metadata": {},
   "source": [
    "![img](https://i.imgur.com/B5iwKlK.png)"
   ]
  },
  {
   "cell_type": "markdown",
   "id": "4073a973",
   "metadata": {
    "papermill": {
     "duration": 0.016997,
     "end_time": "2021-10-21T07:34:03.908934",
     "exception": false,
     "start_time": "2021-10-21T07:34:03.891937",
     "status": "completed"
    },
    "tags": []
   },
   "source": [
    "## **Bar Chart**"
   ]
  },
  {
   "cell_type": "code",
   "execution_count": 8,
   "id": "665ab558",
   "metadata": {
    "execution": {
     "iopub.execute_input": "2021-10-21T07:34:03.946531Z",
     "iopub.status.busy": "2021-10-21T07:34:03.945837Z",
     "iopub.status.idle": "2021-10-21T07:34:03.955926Z",
     "shell.execute_reply": "2021-10-21T07:34:03.956480Z",
     "shell.execute_reply.started": "2021-10-21T07:32:22.184647Z"
    },
    "papermill": {
     "duration": 0.030593,
     "end_time": "2021-10-21T07:34:03.956697",
     "exception": false,
     "start_time": "2021-10-21T07:34:03.926104",
     "status": "completed"
    },
    "tags": []
   },
   "outputs": [
    {
     "data": {
      "text/html": [
       "\n",
       "<script>\n",
       "    require.config({\n",
       "        paths: {\n",
       "            'chartXkcd':'https://cdn.jsdelivr.net/npm/chart.xkcd@1.1/dist/chart.xkcd.min'\n",
       "        }\n",
       "    });\n",
       "</script>\n",
       "\n",
       "<div id=\"7d4a238705ae4b7ca40ccdf45837b974\" class=\"chart-container\" style=\"width: 800px\">\n",
       "        <svg id=\"chart_7d4a238705ae4b7ca40ccdf45837b974\"></svg>\n",
       "    </div>\n",
       "    <script>\n",
       "        require(['chartXkcd'], function(chartXkcd) {\n",
       "            const svg_7d4a238705ae4b7ca40ccdf45837b974 = document.querySelector('#chart_7d4a238705ae4b7ca40ccdf45837b974')\n",
       "            const chart_7d4a238705ae4b7ca40ccdf45837b974 = new chartXkcd.Bar(svg_7d4a238705ae4b7ca40ccdf45837b974, {\"title\": \"Rating of Contents\", \"data\": {\"datasets\": [{\"label\": \"Count\", \"data\": [3207, 2160, 863, 799, 490, 334, 307, 287, 220, 80]}], \"labels\": [\"TV-MA\", \"TV-14\", \"TV-PG\", \"R\", \"PG-13\", \"TV-Y7\", \"TV-Y\", \"PG\", \"TV-G\", \"NR\"]}, \"xLabel\": \"Rating\", \"yLabel\": \"Count\", \"options\": {\"yTickCount\": 3}});\n",
       "        })\n",
       "    </script>\n"
      ],
      "text/plain": [
       "<cutecharts.render.engine.HTML at 0x7f8205bcf7d0>"
      ]
     },
     "execution_count": 8,
     "metadata": {},
     "output_type": "execute_result"
    }
   ],
   "source": [
    "rating = df['rating'].value_counts().to_frame(name='count')[:10]\n",
    "\n",
    "bar = ctc.Bar(\"Rating of Contents\")\n",
    "\n",
    "# set the chart options\n",
    "bar.set_options(labels=list(rating.index),\n",
    "                x_label='Rating',\n",
    "                y_label='Count')\n",
    "               \n",
    "bar.add_series('Count',list(rating['count'])) \n",
    "\n",
    "# display the chart\n",
    "bar.render_notebook()"
   ]
  },
  {
   "cell_type": "markdown",
   "id": "36dc8121",
   "metadata": {},
   "source": [
    "![img](https://i.imgur.com/1HWDDPd.png)"
   ]
  },
  {
   "cell_type": "markdown",
   "id": "3700cd9f",
   "metadata": {
    "papermill": {
     "duration": 0.017173,
     "end_time": "2021-10-21T07:34:03.992758",
     "exception": false,
     "start_time": "2021-10-21T07:34:03.975585",
     "status": "completed"
    },
    "tags": []
   },
   "source": [
    "## **More to Read**"
   ]
  },
  {
   "cell_type": "markdown",
   "id": "41bc9067",
   "metadata": {
    "papermill": {
     "duration": 0.017306,
     "end_time": "2021-10-21T07:34:04.027512",
     "exception": false,
     "start_time": "2021-10-21T07:34:04.010206",
     "status": "completed"
    },
    "tags": []
   },
   "source": [
    "- #### **cutecharts documentation** : https://github.com/cutecharts/cutecharts.py\n",
    "- #### **Blog**  : https://www.analyticsvidhya.com/blog/2021/09/hand-made-visualizations-in-python-using-cutecharts-library/"
   ]
  },
  {
   "cell_type": "markdown",
   "id": "4892b64e",
   "metadata": {
    "papermill": {
     "duration": 0.017285,
     "end_time": "2021-10-21T07:34:04.062944",
     "exception": false,
     "start_time": "2021-10-21T07:34:04.045659",
     "status": "completed"
    },
    "tags": []
   },
   "source": [
    "### **Thank You**"
   ]
  }
 ],
 "metadata": {
  "kernelspec": {
   "display_name": "Python 3",
   "language": "python",
   "name": "python3"
  },
  "language_info": {
   "codemirror_mode": {
    "name": "ipython",
    "version": 3
   },
   "file_extension": ".py",
   "mimetype": "text/x-python",
   "name": "python",
   "nbconvert_exporter": "python",
   "pygments_lexer": "ipython3",
   "version": "3.8.8"
  },
  "papermill": {
   "default_parameters": {},
   "duration": 19.561918,
   "end_time": "2021-10-21T07:34:04.690255",
   "environment_variables": {},
   "exception": null,
   "input_path": "__notebook__.ipynb",
   "output_path": "__notebook__.ipynb",
   "parameters": {},
   "start_time": "2021-10-21T07:33:45.128337",
   "version": "2.3.3"
  }
 },
 "nbformat": 4,
 "nbformat_minor": 5
}
